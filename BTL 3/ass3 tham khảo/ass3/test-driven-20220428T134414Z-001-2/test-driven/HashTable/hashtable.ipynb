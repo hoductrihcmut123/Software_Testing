{
 "cells": [
  {
   "cell_type": "code",
   "execution_count": 71,
   "metadata": {},
   "outputs": [],
   "source": [
    "# !pip install openpyxl xlsxwriter xlrd\n",
    "# !pip install xlrd==1.2.0"
   ]
  },
  {
   "cell_type": "code",
   "execution_count": 72,
   "metadata": {},
   "outputs": [],
   "source": [
    "import XLUtils\n",
    "from selenium import webdriver\n",
    "import time\n",
    "import pandas as pd"
   ]
  },
  {
   "cell_type": "code",
   "execution_count": 73,
   "metadata": {},
   "outputs": [],
   "source": [
    "filename = './TestCase.xlsx'\n",
    "\n",
    "def test(webAddress, item, target, sheet_name):\n",
    "    input = pd.read_excel(filename, sheet_name=sheet_name, engine='openpyxl')\n",
    "    for inp in range(len(input)):\n",
    "        data = str(input[\"Input\"][inp]).split(\"#\")\n",
    "\n",
    "        driver = webdriver.Chrome(executable_path=\"chromedriver.exe\")\n",
    "        driver.get(webAddress)\n",
    "        driver.maximize_window()\n",
    "        time.sleep(delay_time)\n",
    "\n",
    "        for i in item:\n",
    "            if i[0] == 'sleep':\n",
    "                time.sleep(i[1])\n",
    "                continue\n",
    "                \n",
    "            index = i[1].find('=')\n",
    "            type = i[1][:index]\n",
    "            adr = i[1][index + 1 :]\n",
    "\n",
    "            if i[0] == 'click':\n",
    "                driver.find_element(type, adr).click()\n",
    "            elif i[0] == 'type':\n",
    "                input_field = driver.find_element(type, adr)\n",
    "                driver.execute_script(\"arguments[0].value = ''\", input_field)\n",
    "                input_field.send_keys(data[0])\n",
    "                data = data[1:]\n",
    "                \n",
    "            time.sleep(delay_time)\n",
    "\n",
    "        index = target[1].find('=')\n",
    "        type = target[1][:index]\n",
    "        adr = target[1][index + 1 :]\n",
    "        result = driver.find_element(type, adr).text\n",
    "        input[\"Got\"][inp] = str(result)\n",
    "        # time.sleep(5)\n",
    "        driver.quit()\n",
    "    \n",
    "\n",
    "    input.to_excel('./TestCase_.xlsx', sheet_name, index=False)"
   ]
  },
  {
   "cell_type": "code",
   "execution_count": 74,
   "metadata": {},
   "outputs": [],
   "source": [
    "# create \n",
    "webAddress = 'https://visualgo.net/en/hashtable?slide=1'\n",
    "\n",
    "item = [\n",
    "    ['click', \"id=gdpr-accept\"],\n",
    "    ['click', \"xpath=//div[@id='overlay']/div[2]\"],\n",
    "    ['click', \"id=title-LP\"],\n",
    "\n",
    "    # click create, go\n",
    "    ['click', \"id=create\"],\n",
    "    ['click', \"id=create-input\"],\n",
    "    ['type', \"id=v-create\"],\n",
    "    ['click', \"xpath=//div[@id='create-go']/p\"],\n",
    "\n",
    "    # click insert, go\n",
    "    # ['click', \"id=insert\"],\n",
    "    # ['click', \"id=insert-input\"],\n",
    "    # ['click', \"id=v-insert\"],\n",
    "    # ['type', \"id=v-insert\", \"abc1,2,3,6\"],\n",
    "    # ['click', \"xpath=//div[@id='insert-go']/p\"],\n",
    "    # ['sleep', 5],\n",
    "    \n",
    "    # ['click', \"xpath\"],\n",
    "    # ['click', \"xpath\"],\n",
    "    # ['click', \"xpath\"],\n",
    "    # ['click', \"xpath\"],\n",
    "    # ['click', \"xpath\"],\n",
    "    # ['click', \"xpath\"], \n",
    "]\n",
    "target = ['get', \"id=create-err\"]\n",
    "sheet_name = 'HashTable_Create'\n",
    "delay_time = 1\n",
    "\n",
    "test(webAddress, item, target, sheet_name)"
   ]
  }
 ],
 "metadata": {
  "interpreter": {
   "hash": "18f024ac0c6901e06700d320cbafe7db6acb3bfc6eb78a964ee815dc19c4c779"
  },
  "kernelspec": {
   "display_name": "Python 3.6.13 ('selenium')",
   "language": "python",
   "name": "python3"
  },
  "language_info": {
   "codemirror_mode": {
    "name": "ipython",
    "version": 3
   },
   "file_extension": ".py",
   "mimetype": "text/x-python",
   "name": "python",
   "nbconvert_exporter": "python",
   "pygments_lexer": "ipython3",
   "version": "3.6.13"
  },
  "orig_nbformat": 4
 },
 "nbformat": 4,
 "nbformat_minor": 2
}
